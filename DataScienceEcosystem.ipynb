{
 "cells": [
  {
   "cell_type": "markdown",
   "id": "e5a83f43",
   "metadata": {},
   "source": [
    "# Data Science Tools and Ecosystem"
   ]
  },
  {
   "cell_type": "markdown",
   "id": "da2014c8",
   "metadata": {},
   "source": [
    "In this Notebook, we will be summarizing the different Data science tools and Ecosystems"
   ]
  },
  {
   "cell_type": "markdown",
   "id": "af769cac",
   "metadata": {},
   "source": [
    "## **Objectives**\n",
    "- Languages of Data Science\n",
    "- Libraries for Data Science\n",
    "- Tools for Data Science"
   ]
  },
  {
   "cell_type": "markdown",
   "id": "b9286b3e",
   "metadata": {},
   "source": [
    "The languages that Data SCientists use are the following (In decreasing popularity):\n",
    "1. Python\n",
    "2. R\n",
    "3. SQL\n",
    "4. Scala\n",
    "5. Java\n",
    "6. JavaScript\n",
    "7. PHP\n",
    "8. GO\n",
    "9. Ruby\n",
    "10. Visual Basic\n"
   ]
  },
  {
   "cell_type": "markdown",
   "id": "a6bbdfa1",
   "metadata": {},
   "source": [
    "The different libraries for Data Science are:\n",
    "- Scientific Computing Libraries in Python:\n",
    " 1. Pandas\n",
    " 2. NumPy\n",
    "\n",
    "- Visualization:\n",
    " 1. Matplotlib\n",
    " 2. Seaborn\n",
    "\n",
    "- Machine Learning:\n",
    " 1. Scikit-learn\n",
    " 2. Keras\n",
    " 3. TensorFlow\n",
    " 4. PyTorch\n",
    "        "
   ]
  },
  {
   "cell_type": "markdown",
   "id": "5806c194",
   "metadata": {},
   "source": [
    "|Data Science Tools|\n",
    "----\n",
    "|Jupyter Notebook|\n",
    "|RStudio|\n",
    "|Apache Spark|"
   ]
  },
  {
   "cell_type": "markdown",
   "id": "c9f9857a",
   "metadata": {},
   "source": [
    "### Below are a few examples of an arithmetic expression in Python:"
   ]
  },
  {
   "cell_type": "markdown",
   "id": "3c93261b",
   "metadata": {},
   "source": [
    "#### Example of addition and multiplication of integers:"
   ]
  },
  {
   "cell_type": "code",
   "execution_count": 2,
   "id": "a0823395",
   "metadata": {},
   "outputs": [
    {
     "data": {
      "text/plain": [
       "17"
      ]
     },
     "execution_count": 2,
     "metadata": {},
     "output_type": "execute_result"
    }
   ],
   "source": [
    "(3*4)+5"
   ]
  },
  {
   "cell_type": "markdown",
   "id": "8a116309",
   "metadata": {},
   "source": [
    "#### In this example we will convert from minutes to hours by dividing by 60:"
   ]
  },
  {
   "cell_type": "markdown",
   "id": "6ae08795",
   "metadata": {},
   "source": [
    "If an hour is 60 min, 200 min is:"
   ]
  },
  {
   "cell_type": "code",
   "execution_count": 4,
   "id": "3c7beec7",
   "metadata": {},
   "outputs": [
    {
     "data": {
      "text/plain": [
       "3.3333333333333335"
      ]
     },
     "execution_count": 4,
     "metadata": {},
     "output_type": "execute_result"
    }
   ],
   "source": [
    "200/60"
   ]
  },
  {
   "cell_type": "markdown",
   "id": "8040fa00",
   "metadata": {},
   "source": [
    "So 200 min is equal to aprox. 3.3 hours"
   ]
  },
  {
   "cell_type": "markdown",
   "id": "22a192b3",
   "metadata": {},
   "source": [
    "## Author\n",
    "Angélica Varas"
   ]
  }
 ],
 "metadata": {
  "kernelspec": {
   "display_name": "Python 3 (ipykernel)",
   "language": "python",
   "name": "python3"
  },
  "language_info": {
   "codemirror_mode": {
    "name": "ipython",
    "version": 3
   },
   "file_extension": ".py",
   "mimetype": "text/x-python",
   "name": "python",
   "nbconvert_exporter": "python",
   "pygments_lexer": "ipython3",
   "version": "3.11.5"
  }
 },
 "nbformat": 4,
 "nbformat_minor": 5
}
